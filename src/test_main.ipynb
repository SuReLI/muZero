{
 "cells": [
  {
   "cell_type": "code",
   "execution_count": 1,
   "metadata": {},
   "outputs": [],
   "source": [
    "from assembly import main"
   ]
  },
  {
   "cell_type": "code",
   "execution_count": 2,
   "metadata": {},
   "outputs": [
    {
     "name": "stdout",
     "output_type": "stream",
     "text": [
      "opt types: <class 'torch.optim.adam.Adam'>, <class 'torch.optim.adam.Adam'>, <class 'torch.optim.adam.Adam'>\n"
     ]
    },
    {
     "name": "stderr",
     "output_type": "stream",
     "text": [
      "d:\\Documents\\Scolaires\\SUPAERO\\3A\\SDD\\5_In-depth_Modules\\RL\\muZero\\venv\\Lib\\site-packages\\torch\\nn\\modules\\loss.py:535: UserWarning: Using a target size (torch.Size([])) that is different to the input size (torch.Size([1])). This will likely lead to incorrect results due to broadcasting. Please ensure they have the same size.\n",
      "  return F.mse_loss(input, target, reduction=self.reduction)\n"
     ]
    },
    {
     "name": "stdout",
     "output_type": "stream",
     "text": [
      "Minibatch 0: loss= 391.961181640625\n",
      "Minibatch 1: loss= 385.6941223144531\n",
      "Minibatch 2: loss= 358.3663635253906\n",
      "Minibatch 3: loss= 384.1074523925781\n",
      "Minibatch 4: loss= 379.1249694824219\n",
      "Minibatch 5: loss= 379.6302185058594\n",
      "Minibatch 6: loss= 359.9399108886719\n",
      "Minibatch 7: loss= 359.2264404296875\n",
      "Minibatch 8: loss= 352.0152893066406\n",
      "Minibatch 9: loss= 335.3444519042969\n",
      "Minibatch 10: loss= 345.7894287109375\n",
      "Minibatch 11: loss= 345.95257568359375\n",
      "Minibatch 12: loss= 322.0597229003906\n",
      "Minibatch 13: loss= 318.0986328125\n",
      "Minibatch 14: loss= 325.179443359375\n",
      "Minibatch 15: loss= 329.42010498046875\n",
      "Minibatch 16: loss= 310.2146301269531\n",
      "Minibatch 17: loss= 302.7259216308594\n",
      "Minibatch 18: loss= 289.5724792480469\n",
      "Minibatch 19: loss= 303.6872863769531\n",
      "Minibatch 20: loss= 302.7060852050781\n",
      "Minibatch 21: loss= 275.4085388183594\n",
      "Minibatch 22: loss= 288.17889404296875\n",
      "Minibatch 23: loss= 280.8177795410156\n",
      "Minibatch 24: loss= 269.6055908203125\n",
      "Minibatch 25: loss= 279.7339782714844\n",
      "Minibatch 26: loss= 271.53802490234375\n",
      "Minibatch 27: loss= 271.9444580078125\n",
      "Minibatch 28: loss= 277.09808349609375\n",
      "Minibatch 29: loss= 274.64434814453125\n",
      "Minibatch 30: loss= 270.60150146484375\n",
      "Minibatch 31: loss= 270.4815979003906\n",
      "Minibatch 32: loss= 261.1719970703125\n",
      "Minibatch 33: loss= 277.9533386230469\n",
      "Minibatch 34: loss= 263.4783020019531\n",
      "Minibatch 35: loss= 265.02984619140625\n",
      "Minibatch 36: loss= 267.8366394042969\n",
      "Minibatch 37: loss= 269.7613830566406\n",
      "Minibatch 38: loss= 284.9389953613281\n",
      "Minibatch 39: loss= 270.0956726074219\n",
      "Minibatch 40: loss= 265.421875\n",
      "Minibatch 41: loss= 270.8829040527344\n",
      "Minibatch 42: loss= 271.0809020996094\n",
      "Minibatch 43: loss= 264.307373046875\n",
      "Minibatch 44: loss= 264.7519226074219\n",
      "Minibatch 45: loss= 265.3610534667969\n",
      "Minibatch 46: loss= 268.7951354980469\n",
      "Minibatch 47: loss= 265.8127136230469\n",
      "Minibatch 48: loss= 266.5110778808594\n",
      "Minibatch 49: loss= 278.3184509277344\n"
     ]
    }
   ],
   "source": [
    "main(\n",
    "    initital_exploration=100,\n",
    "    minibatch_nb=50,\n",
    ")"
   ]
  },
  {
   "cell_type": "code",
   "execution_count": null,
   "metadata": {},
   "outputs": [],
   "source": []
  }
 ],
 "metadata": {
  "kernelspec": {
   "display_name": "Python 3",
   "language": "python",
   "name": "python3"
  },
  "language_info": {
   "codemirror_mode": {
    "name": "ipython",
    "version": 3
   },
   "file_extension": ".py",
   "mimetype": "text/x-python",
   "name": "python",
   "nbconvert_exporter": "python",
   "pygments_lexer": "ipython3",
   "version": "3.12.1"
  }
 },
 "nbformat": 4,
 "nbformat_minor": 2
}
