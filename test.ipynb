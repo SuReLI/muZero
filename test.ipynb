{
 "cells": [
  {
   "cell_type": "code",
   "execution_count": 1,
   "metadata": {},
   "outputs": [],
   "source": [
    "import torch\n",
    "import torch.nn as nn\n",
    "import torch.nn.functional as F\n",
    "from models import MuModel\n",
    "from training import LossMuZero"
   ]
  },
  {
   "cell_type": "code",
   "execution_count": 14,
   "metadata": {},
   "outputs": [
    {
     "name": "stdout",
     "output_type": "stream",
     "text": [
      "tensor([2, 3, 2, 2, 1, 1, 1, 3, 1, 1, 1, 1, 3, 3, 1, 2, 1, 2, 1, 3])\n"
     ]
    }
   ],
   "source": [
    "# Let's suppose the cartpole env, which has a 4-dim observation space and a 2-dim action space\n",
    "\n",
    "K = 3\n",
    "N = 5\n",
    "action_dim = 2\n",
    "observation_dim = 4\n",
    "\n",
    "lr = nn.MSELoss()\n",
    "lv = nn.MSELoss()\n",
    "lp = nn.CrossEntropyLoss()\n",
    "\n",
    "criterion = LossMuZero(lr=lr,lv=lv,lp=lp)\n",
    "\n",
    "model = MuModel(\n",
    "    observation_dim=observation_dim,\n",
    "    action_dim=action_dim,\n",
    "    state_dim=128,\n",
    "    N=5,\n",
    "    K=3,\n",
    "    criterion=criterion\n",
    ")\n",
    "\n",
    "# some random inputs\n",
    "batch_size = 20\n",
    "\n",
    "horizon_target = torch.randint(1,K+1,size=(batch_size,))\n",
    "# horizon_target = torch.tensor([3])\n",
    "\n",
    "batch = (\n",
    "    torch.rand(batch_size, N, observation_dim), # observations\n",
    "    torch.rand(batch_size, K, action_dim),      # target policies\n",
    "    torch.rand(batch_size, K, action_dim),      # target actions\n",
    "    torch.rand(batch_size, K),                  # target rewards\n",
    "    torch.rand(batch_size, K),                  # target returns\n",
    "    horizon_target\n",
    ")\n",
    "\n",
    "print(horizon_target)"
   ]
  },
  {
   "cell_type": "code",
   "execution_count": 15,
   "metadata": {},
   "outputs": [
    {
     "name": "stdout",
     "output_type": "stream",
     "text": [
      "torch.Size([20, 128])\n",
      "torch.Size([20, 128])\n",
      "torch.Size([20, 128])\n",
      "Loss: 44.6497\n"
     ]
    }
   ],
   "source": [
    "# forward pass\n",
    "model.training_step(batch)"
   ]
  },
  {
   "cell_type": "code",
   "execution_count": null,
   "metadata": {},
   "outputs": [],
   "source": []
  }
 ],
 "metadata": {
  "kernelspec": {
   "display_name": "gengar",
   "language": "python",
   "name": "python3"
  },
  "language_info": {
   "codemirror_mode": {
    "name": "ipython",
    "version": 3
   },
   "file_extension": ".py",
   "mimetype": "text/x-python",
   "name": "python",
   "nbconvert_exporter": "python",
   "pygments_lexer": "ipython3",
   "version": "3.11.8"
  }
 },
 "nbformat": 4,
 "nbformat_minor": 2
}
