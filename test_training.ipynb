{
 "cells": [
  {
   "cell_type": "code",
   "execution_count": 1,
   "metadata": {},
   "outputs": [],
   "source": [
    "import torch\n",
    "import torch.nn as nn\n",
    "import torch.nn.functional as F\n",
    "from models import MuModel\n",
    "from training import LossMuZero"
   ]
  },
  {
   "cell_type": "code",
   "execution_count": 2,
   "metadata": {},
   "outputs": [
    {
     "name": "stdout",
     "output_type": "stream",
     "text": [
      "tensor([2])\n"
     ]
    }
   ],
   "source": [
    "# Let's suppose the cartpole env, which has a 4-dim observation space and a 2-dim action space\n",
    "\n",
    "K = 3\n",
    "N = 5\n",
    "action_dim = 2\n",
    "observation_dim = 4\n",
    "\n",
    "lr = nn.MSELoss()\n",
    "lv = nn.MSELoss()\n",
    "lp = nn.CrossEntropyLoss()\n",
    "\n",
    "criterion = LossMuZero(lr=lr,lv=lv,lp=lp)\n",
    "\n",
    "model = MuModel(\n",
    "    observation_dim=observation_dim,\n",
    "    action_dim=action_dim,\n",
    "    state_dim=128,\n",
    "    N=5,\n",
    "    K=3,\n",
    "    criterion=criterion\n",
    ")\n",
    "\n",
    "# some random inputs\n",
    "batch_size = 1\n",
    "\n",
    "horizon_target = torch.randint(1,K+1,size=(batch_size,))\n",
    "# horizon_target = torch.tensor([3])\n",
    "\n",
    "batch = (\n",
    "    torch.rand(batch_size, N, observation_dim), # observations\n",
    "    torch.rand(batch_size, K, action_dim),      # target policies\n",
    "    torch.rand(batch_size, K, action_dim),      # target actions\n",
    "    torch.rand(batch_size, K),                  # target rewards\n",
    "    torch.rand(batch_size, K),                  # target returns\n",
    "    horizon_target\n",
    ")\n",
    "\n",
    "print(horizon_target)"
   ]
  },
  {
   "cell_type": "code",
   "execution_count": 3,
   "metadata": {},
   "outputs": [
    {
     "name": "stdout",
     "output_type": "stream",
     "text": [
      "Training Loss: 3.4085\n"
     ]
    },
    {
     "name": "stderr",
     "output_type": "stream",
     "text": [
      "c:\\Users\\pierr\\Documents\\SUPAERO 3A\\SDD\\FSD311-Algorithm in Machine Learning\\.venv\\Lib\\site-packages\\torch\\nn\\modules\\loss.py:535: UserWarning: Using a target size (torch.Size([])) that is different to the input size (torch.Size([1])). This will likely lead to incorrect results due to broadcasting. Please ensure they have the same size.\n",
      "  return F.mse_loss(input, target, reduction=self.reduction)\n"
     ]
    }
   ],
   "source": [
    "# forward pass\n",
    "model.training_step(batch)"
   ]
  },
  {
   "cell_type": "code",
   "execution_count": 4,
   "metadata": {},
   "outputs": [
    {
     "name": "stdout",
     "output_type": "stream",
     "text": [
      "Validation Loss: 3.3328\n"
     ]
    }
   ],
   "source": [
    "model.validation_step(batch)"
   ]
  },
  {
   "cell_type": "code",
   "execution_count": 7,
   "metadata": {},
   "outputs": [
    {
     "name": "stdout",
     "output_type": "stream",
     "text": [
      "Epoch 0\n",
      "Training Loss: 2.2071\n",
      "Training Loss: 2.2081\n",
      "Training Loss: 2.2082\n",
      "Training Loss: 2.2077\n",
      "Training Loss: 2.2078\n",
      "Validation Loss: 2.2073\n",
      "Epoch 1\n",
      "Training Loss: 2.2073\n",
      "Training Loss: 2.2079\n",
      "Training Loss: 2.2075\n",
      "Training Loss: 2.2075\n",
      "Training Loss: 2.2083\n",
      "Validation Loss: 2.2069\n",
      "Epoch 2\n",
      "Training Loss: 2.2069\n",
      "Training Loss: 2.2079\n",
      "Training Loss: 2.2076\n",
      "Training Loss: 2.2074\n",
      "Training Loss: 2.2079\n",
      "Validation Loss: 2.2077\n",
      "Epoch 3\n",
      "Training Loss: 2.2077\n",
      "Training Loss: 2.2074\n",
      "Training Loss: 2.2084\n",
      "Training Loss: 2.2070\n",
      "Training Loss: 2.2079\n",
      "Validation Loss: 2.2070\n",
      "Epoch 4\n",
      "Training Loss: 2.2070\n",
      "Training Loss: 2.2079\n",
      "Training Loss: 2.2074\n",
      "Training Loss: 2.2073\n",
      "Training Loss: 2.2083\n",
      "Validation Loss: 2.2078\n"
     ]
    }
   ],
   "source": [
    "n_step_grad = 5\n",
    "n_epoch = 5\n",
    "\n",
    "for k in range(n_epoch):\n",
    "    print(f\"Epoch {k}\")\n",
    "    for _ in range(n_step_grad):\n",
    "        model.training_step(batch)\n",
    "    model.validation_step(batch)\n"
   ]
  }
 ],
 "metadata": {
  "kernelspec": {
   "display_name": "gengar",
   "language": "python",
   "name": "python3"
  },
  "language_info": {
   "codemirror_mode": {
    "name": "ipython",
    "version": 3
   },
   "file_extension": ".py",
   "mimetype": "text/x-python",
   "name": "python",
   "nbconvert_exporter": "python",
   "pygments_lexer": "ipython3",
   "version": "3.11.8"
  }
 },
 "nbformat": 4,
 "nbformat_minor": 2
}
