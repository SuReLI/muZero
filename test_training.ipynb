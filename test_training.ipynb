{
 "cells": [
  {
   "cell_type": "code",
   "execution_count": 1,
   "metadata": {},
   "outputs": [],
   "source": [
    "import torch\n",
    "import torch.nn as nn\n",
    "import torch.nn.functional as F\n",
    "from src.training import MuModel\n",
    "from src.training.losses import Loss"
   ]
  },
  {
   "cell_type": "code",
   "execution_count": 2,
   "metadata": {},
   "outputs": [],
   "source": [
    "%load_ext autoreload\n",
    "%autoreload 2"
   ]
  },
  {
   "cell_type": "code",
   "execution_count": 3,
   "metadata": {},
   "outputs": [
    {
     "name": "stdout",
     "output_type": "stream",
     "text": [
      "tensor([3])\n"
     ]
    },
    {
     "name": "stderr",
     "output_type": "stream",
     "text": [
      "/Users/guillaumeberthelot/anaconda3/envs/SDD_Torch/lib/python3.11/site-packages/transformers/utils/generic.py:441: UserWarning: torch.utils._pytree._register_pytree_node is deprecated. Please use torch.utils._pytree.register_pytree_node instead.\n",
      "  _torch_pytree._register_pytree_node(\n"
     ]
    }
   ],
   "source": [
    "# Let's suppose the cartpole env, which has a 4-dim observation space and a 2-dim action space\n",
    "\n",
    "K = 3\n",
    "N = 5\n",
    "action_dim = 2\n",
    "observation_dim = 4\n",
    "\n",
    "lr = nn.MSELoss()\n",
    "lv = nn.MSELoss()\n",
    "lp = nn.CrossEntropyLoss()\n",
    "\n",
    "criterion = Loss(lr=lr,lv=lv,lp=lp)\n",
    "\n",
    "model = MuModel(\n",
    "    observation_dim=observation_dim,\n",
    "    action_dim=action_dim,\n",
    "    state_dim=128,\n",
    "    N=5,\n",
    "    K=3,\n",
    "    criterion=criterion\n",
    ")\n",
    "\n",
    "# some random inputs\n",
    "batch_size = 1\n",
    "\n",
    "horizon_target = torch.randint(1,K+1,size=(batch_size,))\n",
    "# horizon_target = torch.tensor([3])\n",
    "\n",
    "batch = (\n",
    "    torch.rand(batch_size, N, observation_dim), # observations\n",
    "    torch.rand(batch_size, K, action_dim),      # target policies\n",
    "    torch.rand(batch_size, K, action_dim),      # target actions\n",
    "    torch.rand(batch_size, K),                  # target rewards\n",
    "    torch.rand(batch_size, K),                  # target returns\n",
    "    horizon_target\n",
    ")\n",
    "\n",
    "print(horizon_target)"
   ]
  },
  {
   "cell_type": "code",
   "execution_count": 4,
   "metadata": {},
   "outputs": [
    {
     "name": "stderr",
     "output_type": "stream",
     "text": [
      "/Users/guillaumeberthelot/anaconda3/envs/SDD_Torch/lib/python3.11/site-packages/torch/nn/modules/loss.py:535: UserWarning: Using a target size (torch.Size([])) that is different to the input size (torch.Size([1])). This will likely lead to incorrect results due to broadcasting. Please ensure they have the same size.\n",
      "  return F.mse_loss(input, target, reduction=self.reduction)\n"
     ]
    },
    {
     "data": {
      "text/plain": [
       "tensor(4.8459, grad_fn=<AddBackward0>)"
      ]
     },
     "execution_count": 4,
     "metadata": {},
     "output_type": "execute_result"
    }
   ],
   "source": [
    "# forward pass\n",
    "model.training_step(batch)"
   ]
  },
  {
   "cell_type": "code",
   "execution_count": 5,
   "metadata": {},
   "outputs": [
    {
     "data": {
      "text/plain": [
       "4.684188365936279"
      ]
     },
     "execution_count": 5,
     "metadata": {},
     "output_type": "execute_result"
    }
   ],
   "source": [
    "model.validation_step(batch)"
   ]
  },
  {
   "cell_type": "code",
   "execution_count": 6,
   "metadata": {},
   "outputs": [
    {
     "name": "stdout",
     "output_type": "stream",
     "text": [
      "Epoch 0\n",
      "Epoch 1\n",
      "Epoch 2\n",
      "Epoch 3\n",
      "Epoch 4\n"
     ]
    }
   ],
   "source": [
    "n_step_grad = 5\n",
    "n_epoch = 5\n",
    "\n",
    "for k in range(n_epoch):\n",
    "    print(f\"Epoch {k}\")\n",
    "    for _ in range(n_step_grad):\n",
    "        model.training_step(batch)\n",
    "    model.validation_step(batch)\n"
   ]
  }
 ],
 "metadata": {
  "kernelspec": {
   "display_name": "gengar",
   "language": "python",
   "name": "python3"
  },
  "language_info": {
   "codemirror_mode": {
    "name": "ipython",
    "version": 3
   },
   "file_extension": ".py",
   "mimetype": "text/x-python",
   "name": "python",
   "nbconvert_exporter": "python",
   "pygments_lexer": "ipython3",
   "version": "3.11.5"
  }
 },
 "nbformat": 4,
 "nbformat_minor": 2
}
